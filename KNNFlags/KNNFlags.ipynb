{
  "nbformat": 4,
  "nbformat_minor": 0,
  "metadata": {
    "colab": {
      "name": "KNNFlags.ipynb",
      "provenance": [],
      "collapsed_sections": []
    },
    "kernelspec": {
      "name": "python3",
      "display_name": "Python 3"
    },
    "language_info": {
      "name": "python"
    }
  },
  "cells": [
    {
      "cell_type": "markdown",
      "source": [
        "# **KNN Flags**"
      ],
      "metadata": {
        "id": "W7O2c3xgj9F9"
      }
    },
    {
      "cell_type": "code",
      "execution_count": 27,
      "metadata": {
        "colab": {
          "base_uri": "https://localhost:8080/",
          "height": 235
        },
        "id": "nN2XSZQflb0i",
        "outputId": "6eaca177-6569-4650-b845-70eda9a74428"
      },
      "outputs": [
        {
          "output_type": "execute_result",
          "data": {
            "text/plain": [
              "               0   1   2     3   4   5   6   7   8   9   ...  20  21  22  23  \\\n",
              "0     Afghanistan   5   1   648  16  10   2   0   3   5  ...   0   0   1   0   \n",
              "1         Albania   3   1    29   3   6   6   0   0   3  ...   0   0   1   0   \n",
              "2         Algeria   4   1  2388  20   8   2   2   0   3  ...   0   0   1   1   \n",
              "3  American-Samoa   6   3     0   0   1   1   0   0   5  ...   0   0   0   0   \n",
              "4         Andorra   3   1     0   0   6   0   3   0   3  ...   0   0   0   0   \n",
              "\n",
              "   24  25  26 27     28     29  \n",
              "0   0   1   0  0  black  green  \n",
              "1   0   0   1  0    red    red  \n",
              "2   0   0   0  0  green  white  \n",
              "3   1   1   1  0   blue    red  \n",
              "4   0   0   0  0   blue    red  \n",
              "\n",
              "[5 rows x 30 columns]"
            ],
            "text/html": [
              "\n",
              "  <div id=\"df-e8891319-55ee-48e0-b9d2-4cb762cd7e67\">\n",
              "    <div class=\"colab-df-container\">\n",
              "      <div>\n",
              "<style scoped>\n",
              "    .dataframe tbody tr th:only-of-type {\n",
              "        vertical-align: middle;\n",
              "    }\n",
              "\n",
              "    .dataframe tbody tr th {\n",
              "        vertical-align: top;\n",
              "    }\n",
              "\n",
              "    .dataframe thead th {\n",
              "        text-align: right;\n",
              "    }\n",
              "</style>\n",
              "<table border=\"1\" class=\"dataframe\">\n",
              "  <thead>\n",
              "    <tr style=\"text-align: right;\">\n",
              "      <th></th>\n",
              "      <th>0</th>\n",
              "      <th>1</th>\n",
              "      <th>2</th>\n",
              "      <th>3</th>\n",
              "      <th>4</th>\n",
              "      <th>5</th>\n",
              "      <th>6</th>\n",
              "      <th>7</th>\n",
              "      <th>8</th>\n",
              "      <th>9</th>\n",
              "      <th>...</th>\n",
              "      <th>20</th>\n",
              "      <th>21</th>\n",
              "      <th>22</th>\n",
              "      <th>23</th>\n",
              "      <th>24</th>\n",
              "      <th>25</th>\n",
              "      <th>26</th>\n",
              "      <th>27</th>\n",
              "      <th>28</th>\n",
              "      <th>29</th>\n",
              "    </tr>\n",
              "  </thead>\n",
              "  <tbody>\n",
              "    <tr>\n",
              "      <th>0</th>\n",
              "      <td>Afghanistan</td>\n",
              "      <td>5</td>\n",
              "      <td>1</td>\n",
              "      <td>648</td>\n",
              "      <td>16</td>\n",
              "      <td>10</td>\n",
              "      <td>2</td>\n",
              "      <td>0</td>\n",
              "      <td>3</td>\n",
              "      <td>5</td>\n",
              "      <td>...</td>\n",
              "      <td>0</td>\n",
              "      <td>0</td>\n",
              "      <td>1</td>\n",
              "      <td>0</td>\n",
              "      <td>0</td>\n",
              "      <td>1</td>\n",
              "      <td>0</td>\n",
              "      <td>0</td>\n",
              "      <td>black</td>\n",
              "      <td>green</td>\n",
              "    </tr>\n",
              "    <tr>\n",
              "      <th>1</th>\n",
              "      <td>Albania</td>\n",
              "      <td>3</td>\n",
              "      <td>1</td>\n",
              "      <td>29</td>\n",
              "      <td>3</td>\n",
              "      <td>6</td>\n",
              "      <td>6</td>\n",
              "      <td>0</td>\n",
              "      <td>0</td>\n",
              "      <td>3</td>\n",
              "      <td>...</td>\n",
              "      <td>0</td>\n",
              "      <td>0</td>\n",
              "      <td>1</td>\n",
              "      <td>0</td>\n",
              "      <td>0</td>\n",
              "      <td>0</td>\n",
              "      <td>1</td>\n",
              "      <td>0</td>\n",
              "      <td>red</td>\n",
              "      <td>red</td>\n",
              "    </tr>\n",
              "    <tr>\n",
              "      <th>2</th>\n",
              "      <td>Algeria</td>\n",
              "      <td>4</td>\n",
              "      <td>1</td>\n",
              "      <td>2388</td>\n",
              "      <td>20</td>\n",
              "      <td>8</td>\n",
              "      <td>2</td>\n",
              "      <td>2</td>\n",
              "      <td>0</td>\n",
              "      <td>3</td>\n",
              "      <td>...</td>\n",
              "      <td>0</td>\n",
              "      <td>0</td>\n",
              "      <td>1</td>\n",
              "      <td>1</td>\n",
              "      <td>0</td>\n",
              "      <td>0</td>\n",
              "      <td>0</td>\n",
              "      <td>0</td>\n",
              "      <td>green</td>\n",
              "      <td>white</td>\n",
              "    </tr>\n",
              "    <tr>\n",
              "      <th>3</th>\n",
              "      <td>American-Samoa</td>\n",
              "      <td>6</td>\n",
              "      <td>3</td>\n",
              "      <td>0</td>\n",
              "      <td>0</td>\n",
              "      <td>1</td>\n",
              "      <td>1</td>\n",
              "      <td>0</td>\n",
              "      <td>0</td>\n",
              "      <td>5</td>\n",
              "      <td>...</td>\n",
              "      <td>0</td>\n",
              "      <td>0</td>\n",
              "      <td>0</td>\n",
              "      <td>0</td>\n",
              "      <td>1</td>\n",
              "      <td>1</td>\n",
              "      <td>1</td>\n",
              "      <td>0</td>\n",
              "      <td>blue</td>\n",
              "      <td>red</td>\n",
              "    </tr>\n",
              "    <tr>\n",
              "      <th>4</th>\n",
              "      <td>Andorra</td>\n",
              "      <td>3</td>\n",
              "      <td>1</td>\n",
              "      <td>0</td>\n",
              "      <td>0</td>\n",
              "      <td>6</td>\n",
              "      <td>0</td>\n",
              "      <td>3</td>\n",
              "      <td>0</td>\n",
              "      <td>3</td>\n",
              "      <td>...</td>\n",
              "      <td>0</td>\n",
              "      <td>0</td>\n",
              "      <td>0</td>\n",
              "      <td>0</td>\n",
              "      <td>0</td>\n",
              "      <td>0</td>\n",
              "      <td>0</td>\n",
              "      <td>0</td>\n",
              "      <td>blue</td>\n",
              "      <td>red</td>\n",
              "    </tr>\n",
              "  </tbody>\n",
              "</table>\n",
              "<p>5 rows × 30 columns</p>\n",
              "</div>\n",
              "      <button class=\"colab-df-convert\" onclick=\"convertToInteractive('df-e8891319-55ee-48e0-b9d2-4cb762cd7e67')\"\n",
              "              title=\"Convert this dataframe to an interactive table.\"\n",
              "              style=\"display:none;\">\n",
              "        \n",
              "  <svg xmlns=\"http://www.w3.org/2000/svg\" height=\"24px\"viewBox=\"0 0 24 24\"\n",
              "       width=\"24px\">\n",
              "    <path d=\"M0 0h24v24H0V0z\" fill=\"none\"/>\n",
              "    <path d=\"M18.56 5.44l.94 2.06.94-2.06 2.06-.94-2.06-.94-.94-2.06-.94 2.06-2.06.94zm-11 1L8.5 8.5l.94-2.06 2.06-.94-2.06-.94L8.5 2.5l-.94 2.06-2.06.94zm10 10l.94 2.06.94-2.06 2.06-.94-2.06-.94-.94-2.06-.94 2.06-2.06.94z\"/><path d=\"M17.41 7.96l-1.37-1.37c-.4-.4-.92-.59-1.43-.59-.52 0-1.04.2-1.43.59L10.3 9.45l-7.72 7.72c-.78.78-.78 2.05 0 2.83L4 21.41c.39.39.9.59 1.41.59.51 0 1.02-.2 1.41-.59l7.78-7.78 2.81-2.81c.8-.78.8-2.07 0-2.86zM5.41 20L4 18.59l7.72-7.72 1.47 1.35L5.41 20z\"/>\n",
              "  </svg>\n",
              "      </button>\n",
              "      \n",
              "  <style>\n",
              "    .colab-df-container {\n",
              "      display:flex;\n",
              "      flex-wrap:wrap;\n",
              "      gap: 12px;\n",
              "    }\n",
              "\n",
              "    .colab-df-convert {\n",
              "      background-color: #E8F0FE;\n",
              "      border: none;\n",
              "      border-radius: 50%;\n",
              "      cursor: pointer;\n",
              "      display: none;\n",
              "      fill: #1967D2;\n",
              "      height: 32px;\n",
              "      padding: 0 0 0 0;\n",
              "      width: 32px;\n",
              "    }\n",
              "\n",
              "    .colab-df-convert:hover {\n",
              "      background-color: #E2EBFA;\n",
              "      box-shadow: 0px 1px 2px rgba(60, 64, 67, 0.3), 0px 1px 3px 1px rgba(60, 64, 67, 0.15);\n",
              "      fill: #174EA6;\n",
              "    }\n",
              "\n",
              "    [theme=dark] .colab-df-convert {\n",
              "      background-color: #3B4455;\n",
              "      fill: #D2E3FC;\n",
              "    }\n",
              "\n",
              "    [theme=dark] .colab-df-convert:hover {\n",
              "      background-color: #434B5C;\n",
              "      box-shadow: 0px 1px 3px 1px rgba(0, 0, 0, 0.15);\n",
              "      filter: drop-shadow(0px 1px 2px rgba(0, 0, 0, 0.3));\n",
              "      fill: #FFFFFF;\n",
              "    }\n",
              "  </style>\n",
              "\n",
              "      <script>\n",
              "        const buttonEl =\n",
              "          document.querySelector('#df-e8891319-55ee-48e0-b9d2-4cb762cd7e67 button.colab-df-convert');\n",
              "        buttonEl.style.display =\n",
              "          google.colab.kernel.accessAllowed ? 'block' : 'none';\n",
              "\n",
              "        async function convertToInteractive(key) {\n",
              "          const element = document.querySelector('#df-e8891319-55ee-48e0-b9d2-4cb762cd7e67');\n",
              "          const dataTable =\n",
              "            await google.colab.kernel.invokeFunction('convertToInteractive',\n",
              "                                                     [key], {});\n",
              "          if (!dataTable) return;\n",
              "\n",
              "          const docLinkHtml = 'Like what you see? Visit the ' +\n",
              "            '<a target=\"_blank\" href=https://colab.research.google.com/notebooks/data_table.ipynb>data table notebook</a>'\n",
              "            + ' to learn more about interactive tables.';\n",
              "          element.innerHTML = '';\n",
              "          dataTable['output_type'] = 'display_data';\n",
              "          await google.colab.output.renderOutput(dataTable, element);\n",
              "          const docLink = document.createElement('div');\n",
              "          docLink.innerHTML = docLinkHtml;\n",
              "          element.appendChild(docLink);\n",
              "        }\n",
              "      </script>\n",
              "    </div>\n",
              "  </div>\n",
              "  "
            ]
          },
          "metadata": {},
          "execution_count": 27
        }
      ],
      "source": [
        "import pandas as pd\n",
        "url = (\n",
        "\"https://archive.ics.uci.edu/ml/machine-learning-databases/flags/flag.data\"\n",
        ")\n",
        "flags = pd.read_csv(url, header=None)\n",
        "\n",
        "flags.head()"
      ]
    },
    {
      "cell_type": "markdown",
      "source": [
        "Se utiliza el dataset de banderas e imprimimos las primeras 5 lineas del data set"
      ],
      "metadata": {
        "id": "1rZuqqngJDIA"
      }
    },
    {
      "cell_type": "markdown",
      "source": [
        "Le asignamos nombres a las columnas del data set para saber que reprensenta cada una de ellas\n"
      ],
      "metadata": {
        "id": "5SMwtIvdT_qN"
      }
    },
    {
      "cell_type": "code",
      "source": [
        "flags.columns = [\n",
        "    \"name\",\n",
        "    \"landmass\",\n",
        "    \"zone\",\n",
        "    \"area\",\n",
        "    \"population\",\n",
        "    \"language\",\n",
        "    \"religion\",\n",
        "    \"bars\",\n",
        "    \"stripes\",\n",
        "    \"colours\",\n",
        "    \"red\",\n",
        "    \"green\",\n",
        "    \"blue\",\n",
        "    \"gold\",\n",
        "    \"white\",\n",
        "    \"black\",\n",
        "    \"orange\",\n",
        "    \"mainhue\",\n",
        "    \"circles\",\n",
        "    \"crosses\",\n",
        "    \"saltires\",\n",
        "    \"quarters\",\n",
        "    \"sunstars\",\n",
        "    \"crescent\",\n",
        "    \"triangle\",\n",
        "    \"icon\",\n",
        "    \"animate\",\n",
        "    \"text\",\n",
        "    \"topleft\",\n",
        "    \"botright\",\n",
        "]\n",
        "\n",
        "flags.head()"
      ],
      "metadata": {
        "id": "0rsDqO_0MCfY",
        "colab": {
          "base_uri": "https://localhost:8080/",
          "height": 316
        },
        "outputId": "e47317b7-b0d8-4295-ebab-a1447d8ad9ae"
      },
      "execution_count": 28,
      "outputs": [
        {
          "output_type": "execute_result",
          "data": {
            "text/plain": [
              "             name  landmass  zone  area  population  language  religion  bars  \\\n",
              "0     Afghanistan         5     1   648          16        10         2     0   \n",
              "1         Albania         3     1    29           3         6         6     0   \n",
              "2         Algeria         4     1  2388          20         8         2     2   \n",
              "3  American-Samoa         6     3     0           0         1         1     0   \n",
              "4         Andorra         3     1     0           0         6         0     3   \n",
              "\n",
              "   stripes  colours  ...  saltires  quarters  sunstars  crescent  triangle  \\\n",
              "0        3        5  ...         0         0         1         0         0   \n",
              "1        0        3  ...         0         0         1         0         0   \n",
              "2        0        3  ...         0         0         1         1         0   \n",
              "3        0        5  ...         0         0         0         0         1   \n",
              "4        0        3  ...         0         0         0         0         0   \n",
              "\n",
              "   icon  animate text  topleft  botright  \n",
              "0     1        0    0    black     green  \n",
              "1     0        1    0      red       red  \n",
              "2     0        0    0    green     white  \n",
              "3     1        1    0     blue       red  \n",
              "4     0        0    0     blue       red  \n",
              "\n",
              "[5 rows x 30 columns]"
            ],
            "text/html": [
              "\n",
              "  <div id=\"df-467a2135-b5b2-492f-8e28-ce0655afca03\">\n",
              "    <div class=\"colab-df-container\">\n",
              "      <div>\n",
              "<style scoped>\n",
              "    .dataframe tbody tr th:only-of-type {\n",
              "        vertical-align: middle;\n",
              "    }\n",
              "\n",
              "    .dataframe tbody tr th {\n",
              "        vertical-align: top;\n",
              "    }\n",
              "\n",
              "    .dataframe thead th {\n",
              "        text-align: right;\n",
              "    }\n",
              "</style>\n",
              "<table border=\"1\" class=\"dataframe\">\n",
              "  <thead>\n",
              "    <tr style=\"text-align: right;\">\n",
              "      <th></th>\n",
              "      <th>name</th>\n",
              "      <th>landmass</th>\n",
              "      <th>zone</th>\n",
              "      <th>area</th>\n",
              "      <th>population</th>\n",
              "      <th>language</th>\n",
              "      <th>religion</th>\n",
              "      <th>bars</th>\n",
              "      <th>stripes</th>\n",
              "      <th>colours</th>\n",
              "      <th>...</th>\n",
              "      <th>saltires</th>\n",
              "      <th>quarters</th>\n",
              "      <th>sunstars</th>\n",
              "      <th>crescent</th>\n",
              "      <th>triangle</th>\n",
              "      <th>icon</th>\n",
              "      <th>animate</th>\n",
              "      <th>text</th>\n",
              "      <th>topleft</th>\n",
              "      <th>botright</th>\n",
              "    </tr>\n",
              "  </thead>\n",
              "  <tbody>\n",
              "    <tr>\n",
              "      <th>0</th>\n",
              "      <td>Afghanistan</td>\n",
              "      <td>5</td>\n",
              "      <td>1</td>\n",
              "      <td>648</td>\n",
              "      <td>16</td>\n",
              "      <td>10</td>\n",
              "      <td>2</td>\n",
              "      <td>0</td>\n",
              "      <td>3</td>\n",
              "      <td>5</td>\n",
              "      <td>...</td>\n",
              "      <td>0</td>\n",
              "      <td>0</td>\n",
              "      <td>1</td>\n",
              "      <td>0</td>\n",
              "      <td>0</td>\n",
              "      <td>1</td>\n",
              "      <td>0</td>\n",
              "      <td>0</td>\n",
              "      <td>black</td>\n",
              "      <td>green</td>\n",
              "    </tr>\n",
              "    <tr>\n",
              "      <th>1</th>\n",
              "      <td>Albania</td>\n",
              "      <td>3</td>\n",
              "      <td>1</td>\n",
              "      <td>29</td>\n",
              "      <td>3</td>\n",
              "      <td>6</td>\n",
              "      <td>6</td>\n",
              "      <td>0</td>\n",
              "      <td>0</td>\n",
              "      <td>3</td>\n",
              "      <td>...</td>\n",
              "      <td>0</td>\n",
              "      <td>0</td>\n",
              "      <td>1</td>\n",
              "      <td>0</td>\n",
              "      <td>0</td>\n",
              "      <td>0</td>\n",
              "      <td>1</td>\n",
              "      <td>0</td>\n",
              "      <td>red</td>\n",
              "      <td>red</td>\n",
              "    </tr>\n",
              "    <tr>\n",
              "      <th>2</th>\n",
              "      <td>Algeria</td>\n",
              "      <td>4</td>\n",
              "      <td>1</td>\n",
              "      <td>2388</td>\n",
              "      <td>20</td>\n",
              "      <td>8</td>\n",
              "      <td>2</td>\n",
              "      <td>2</td>\n",
              "      <td>0</td>\n",
              "      <td>3</td>\n",
              "      <td>...</td>\n",
              "      <td>0</td>\n",
              "      <td>0</td>\n",
              "      <td>1</td>\n",
              "      <td>1</td>\n",
              "      <td>0</td>\n",
              "      <td>0</td>\n",
              "      <td>0</td>\n",
              "      <td>0</td>\n",
              "      <td>green</td>\n",
              "      <td>white</td>\n",
              "    </tr>\n",
              "    <tr>\n",
              "      <th>3</th>\n",
              "      <td>American-Samoa</td>\n",
              "      <td>6</td>\n",
              "      <td>3</td>\n",
              "      <td>0</td>\n",
              "      <td>0</td>\n",
              "      <td>1</td>\n",
              "      <td>1</td>\n",
              "      <td>0</td>\n",
              "      <td>0</td>\n",
              "      <td>5</td>\n",
              "      <td>...</td>\n",
              "      <td>0</td>\n",
              "      <td>0</td>\n",
              "      <td>0</td>\n",
              "      <td>0</td>\n",
              "      <td>1</td>\n",
              "      <td>1</td>\n",
              "      <td>1</td>\n",
              "      <td>0</td>\n",
              "      <td>blue</td>\n",
              "      <td>red</td>\n",
              "    </tr>\n",
              "    <tr>\n",
              "      <th>4</th>\n",
              "      <td>Andorra</td>\n",
              "      <td>3</td>\n",
              "      <td>1</td>\n",
              "      <td>0</td>\n",
              "      <td>0</td>\n",
              "      <td>6</td>\n",
              "      <td>0</td>\n",
              "      <td>3</td>\n",
              "      <td>0</td>\n",
              "      <td>3</td>\n",
              "      <td>...</td>\n",
              "      <td>0</td>\n",
              "      <td>0</td>\n",
              "      <td>0</td>\n",
              "      <td>0</td>\n",
              "      <td>0</td>\n",
              "      <td>0</td>\n",
              "      <td>0</td>\n",
              "      <td>0</td>\n",
              "      <td>blue</td>\n",
              "      <td>red</td>\n",
              "    </tr>\n",
              "  </tbody>\n",
              "</table>\n",
              "<p>5 rows × 30 columns</p>\n",
              "</div>\n",
              "      <button class=\"colab-df-convert\" onclick=\"convertToInteractive('df-467a2135-b5b2-492f-8e28-ce0655afca03')\"\n",
              "              title=\"Convert this dataframe to an interactive table.\"\n",
              "              style=\"display:none;\">\n",
              "        \n",
              "  <svg xmlns=\"http://www.w3.org/2000/svg\" height=\"24px\"viewBox=\"0 0 24 24\"\n",
              "       width=\"24px\">\n",
              "    <path d=\"M0 0h24v24H0V0z\" fill=\"none\"/>\n",
              "    <path d=\"M18.56 5.44l.94 2.06.94-2.06 2.06-.94-2.06-.94-.94-2.06-.94 2.06-2.06.94zm-11 1L8.5 8.5l.94-2.06 2.06-.94-2.06-.94L8.5 2.5l-.94 2.06-2.06.94zm10 10l.94 2.06.94-2.06 2.06-.94-2.06-.94-.94-2.06-.94 2.06-2.06.94z\"/><path d=\"M17.41 7.96l-1.37-1.37c-.4-.4-.92-.59-1.43-.59-.52 0-1.04.2-1.43.59L10.3 9.45l-7.72 7.72c-.78.78-.78 2.05 0 2.83L4 21.41c.39.39.9.59 1.41.59.51 0 1.02-.2 1.41-.59l7.78-7.78 2.81-2.81c.8-.78.8-2.07 0-2.86zM5.41 20L4 18.59l7.72-7.72 1.47 1.35L5.41 20z\"/>\n",
              "  </svg>\n",
              "      </button>\n",
              "      \n",
              "  <style>\n",
              "    .colab-df-container {\n",
              "      display:flex;\n",
              "      flex-wrap:wrap;\n",
              "      gap: 12px;\n",
              "    }\n",
              "\n",
              "    .colab-df-convert {\n",
              "      background-color: #E8F0FE;\n",
              "      border: none;\n",
              "      border-radius: 50%;\n",
              "      cursor: pointer;\n",
              "      display: none;\n",
              "      fill: #1967D2;\n",
              "      height: 32px;\n",
              "      padding: 0 0 0 0;\n",
              "      width: 32px;\n",
              "    }\n",
              "\n",
              "    .colab-df-convert:hover {\n",
              "      background-color: #E2EBFA;\n",
              "      box-shadow: 0px 1px 2px rgba(60, 64, 67, 0.3), 0px 1px 3px 1px rgba(60, 64, 67, 0.15);\n",
              "      fill: #174EA6;\n",
              "    }\n",
              "\n",
              "    [theme=dark] .colab-df-convert {\n",
              "      background-color: #3B4455;\n",
              "      fill: #D2E3FC;\n",
              "    }\n",
              "\n",
              "    [theme=dark] .colab-df-convert:hover {\n",
              "      background-color: #434B5C;\n",
              "      box-shadow: 0px 1px 3px 1px rgba(0, 0, 0, 0.15);\n",
              "      filter: drop-shadow(0px 1px 2px rgba(0, 0, 0, 0.3));\n",
              "      fill: #FFFFFF;\n",
              "    }\n",
              "  </style>\n",
              "\n",
              "      <script>\n",
              "        const buttonEl =\n",
              "          document.querySelector('#df-467a2135-b5b2-492f-8e28-ce0655afca03 button.colab-df-convert');\n",
              "        buttonEl.style.display =\n",
              "          google.colab.kernel.accessAllowed ? 'block' : 'none';\n",
              "\n",
              "        async function convertToInteractive(key) {\n",
              "          const element = document.querySelector('#df-467a2135-b5b2-492f-8e28-ce0655afca03');\n",
              "          const dataTable =\n",
              "            await google.colab.kernel.invokeFunction('convertToInteractive',\n",
              "                                                     [key], {});\n",
              "          if (!dataTable) return;\n",
              "\n",
              "          const docLinkHtml = 'Like what you see? Visit the ' +\n",
              "            '<a target=\"_blank\" href=https://colab.research.google.com/notebooks/data_table.ipynb>data table notebook</a>'\n",
              "            + ' to learn more about interactive tables.';\n",
              "          element.innerHTML = '';\n",
              "          dataTable['output_type'] = 'display_data';\n",
              "          await google.colab.output.renderOutput(dataTable, element);\n",
              "          const docLink = document.createElement('div');\n",
              "          docLink.innerHTML = docLinkHtml;\n",
              "          element.appendChild(docLink);\n",
              "        }\n",
              "      </script>\n",
              "    </div>\n",
              "  </div>\n",
              "  "
            ]
          },
          "metadata": {},
          "execution_count": 28
        }
      ]
    },
    {
      "cell_type": "markdown",
      "source": [
        "Como vamos a tratar de predecir la religion de un pais en base a su tamaño y colores en su bandera, vamos a dropear columnas que no necesitamos"
      ],
      "metadata": {
        "id": "ZWeJs6VRUFDt"
      }
    },
    {
      "cell_type": "code",
      "source": [
        "flags = flags.drop(\"name\", axis=1)\n",
        "flags = flags.drop(\"landmass\", axis=1)\n",
        "flags = flags.drop(\"zone\", axis=1)\n",
        "flags = flags.drop(\"area\", axis=1)\n",
        "flags = flags.drop(\"population\", axis=1)\n",
        "flags = flags.drop(\"language\", axis=1)\n",
        "flags = flags.drop(\"mainhue\", axis=1)\n",
        "flags = flags.drop(\"topleft\", axis=1)\n",
        "flags = flags.drop(\"botright\", axis=1)\n"
      ],
      "metadata": {
        "id": "1JLSK0-YUR9g"
      },
      "execution_count": 29,
      "outputs": []
    },
    {
      "cell_type": "code",
      "source": [
        "flags.head()"
      ],
      "metadata": {
        "colab": {
          "base_uri": "https://localhost:8080/",
          "height": 300
        },
        "id": "uO2QeOJvXICf",
        "outputId": "18310fb2-1abf-4f6e-cf1b-9c5a907698ff"
      },
      "execution_count": 30,
      "outputs": [
        {
          "output_type": "execute_result",
          "data": {
            "text/plain": [
              "   religion  bars  stripes  colours  red  green  blue  gold  white  black  \\\n",
              "0         2     0        3        5    1      1     0     1      1      1   \n",
              "1         6     0        0        3    1      0     0     1      0      1   \n",
              "2         2     2        0        3    1      1     0     0      1      0   \n",
              "3         1     0        0        5    1      0     1     1      1      0   \n",
              "4         0     3        0        3    1      0     1     1      0      0   \n",
              "\n",
              "   ...  circles  crosses  saltires  quarters  sunstars  crescent  triangle  \\\n",
              "0  ...        0        0         0         0         1         0         0   \n",
              "1  ...        0        0         0         0         1         0         0   \n",
              "2  ...        0        0         0         0         1         1         0   \n",
              "3  ...        0        0         0         0         0         0         1   \n",
              "4  ...        0        0         0         0         0         0         0   \n",
              "\n",
              "   icon  animate  text  \n",
              "0     1        0     0  \n",
              "1     0        1     0  \n",
              "2     0        0     0  \n",
              "3     1        1     0  \n",
              "4     0        0     0  \n",
              "\n",
              "[5 rows x 21 columns]"
            ],
            "text/html": [
              "\n",
              "  <div id=\"df-c5c7681a-799c-4f40-8119-6ed8bcbeda20\">\n",
              "    <div class=\"colab-df-container\">\n",
              "      <div>\n",
              "<style scoped>\n",
              "    .dataframe tbody tr th:only-of-type {\n",
              "        vertical-align: middle;\n",
              "    }\n",
              "\n",
              "    .dataframe tbody tr th {\n",
              "        vertical-align: top;\n",
              "    }\n",
              "\n",
              "    .dataframe thead th {\n",
              "        text-align: right;\n",
              "    }\n",
              "</style>\n",
              "<table border=\"1\" class=\"dataframe\">\n",
              "  <thead>\n",
              "    <tr style=\"text-align: right;\">\n",
              "      <th></th>\n",
              "      <th>religion</th>\n",
              "      <th>bars</th>\n",
              "      <th>stripes</th>\n",
              "      <th>colours</th>\n",
              "      <th>red</th>\n",
              "      <th>green</th>\n",
              "      <th>blue</th>\n",
              "      <th>gold</th>\n",
              "      <th>white</th>\n",
              "      <th>black</th>\n",
              "      <th>...</th>\n",
              "      <th>circles</th>\n",
              "      <th>crosses</th>\n",
              "      <th>saltires</th>\n",
              "      <th>quarters</th>\n",
              "      <th>sunstars</th>\n",
              "      <th>crescent</th>\n",
              "      <th>triangle</th>\n",
              "      <th>icon</th>\n",
              "      <th>animate</th>\n",
              "      <th>text</th>\n",
              "    </tr>\n",
              "  </thead>\n",
              "  <tbody>\n",
              "    <tr>\n",
              "      <th>0</th>\n",
              "      <td>2</td>\n",
              "      <td>0</td>\n",
              "      <td>3</td>\n",
              "      <td>5</td>\n",
              "      <td>1</td>\n",
              "      <td>1</td>\n",
              "      <td>0</td>\n",
              "      <td>1</td>\n",
              "      <td>1</td>\n",
              "      <td>1</td>\n",
              "      <td>...</td>\n",
              "      <td>0</td>\n",
              "      <td>0</td>\n",
              "      <td>0</td>\n",
              "      <td>0</td>\n",
              "      <td>1</td>\n",
              "      <td>0</td>\n",
              "      <td>0</td>\n",
              "      <td>1</td>\n",
              "      <td>0</td>\n",
              "      <td>0</td>\n",
              "    </tr>\n",
              "    <tr>\n",
              "      <th>1</th>\n",
              "      <td>6</td>\n",
              "      <td>0</td>\n",
              "      <td>0</td>\n",
              "      <td>3</td>\n",
              "      <td>1</td>\n",
              "      <td>0</td>\n",
              "      <td>0</td>\n",
              "      <td>1</td>\n",
              "      <td>0</td>\n",
              "      <td>1</td>\n",
              "      <td>...</td>\n",
              "      <td>0</td>\n",
              "      <td>0</td>\n",
              "      <td>0</td>\n",
              "      <td>0</td>\n",
              "      <td>1</td>\n",
              "      <td>0</td>\n",
              "      <td>0</td>\n",
              "      <td>0</td>\n",
              "      <td>1</td>\n",
              "      <td>0</td>\n",
              "    </tr>\n",
              "    <tr>\n",
              "      <th>2</th>\n",
              "      <td>2</td>\n",
              "      <td>2</td>\n",
              "      <td>0</td>\n",
              "      <td>3</td>\n",
              "      <td>1</td>\n",
              "      <td>1</td>\n",
              "      <td>0</td>\n",
              "      <td>0</td>\n",
              "      <td>1</td>\n",
              "      <td>0</td>\n",
              "      <td>...</td>\n",
              "      <td>0</td>\n",
              "      <td>0</td>\n",
              "      <td>0</td>\n",
              "      <td>0</td>\n",
              "      <td>1</td>\n",
              "      <td>1</td>\n",
              "      <td>0</td>\n",
              "      <td>0</td>\n",
              "      <td>0</td>\n",
              "      <td>0</td>\n",
              "    </tr>\n",
              "    <tr>\n",
              "      <th>3</th>\n",
              "      <td>1</td>\n",
              "      <td>0</td>\n",
              "      <td>0</td>\n",
              "      <td>5</td>\n",
              "      <td>1</td>\n",
              "      <td>0</td>\n",
              "      <td>1</td>\n",
              "      <td>1</td>\n",
              "      <td>1</td>\n",
              "      <td>0</td>\n",
              "      <td>...</td>\n",
              "      <td>0</td>\n",
              "      <td>0</td>\n",
              "      <td>0</td>\n",
              "      <td>0</td>\n",
              "      <td>0</td>\n",
              "      <td>0</td>\n",
              "      <td>1</td>\n",
              "      <td>1</td>\n",
              "      <td>1</td>\n",
              "      <td>0</td>\n",
              "    </tr>\n",
              "    <tr>\n",
              "      <th>4</th>\n",
              "      <td>0</td>\n",
              "      <td>3</td>\n",
              "      <td>0</td>\n",
              "      <td>3</td>\n",
              "      <td>1</td>\n",
              "      <td>0</td>\n",
              "      <td>1</td>\n",
              "      <td>1</td>\n",
              "      <td>0</td>\n",
              "      <td>0</td>\n",
              "      <td>...</td>\n",
              "      <td>0</td>\n",
              "      <td>0</td>\n",
              "      <td>0</td>\n",
              "      <td>0</td>\n",
              "      <td>0</td>\n",
              "      <td>0</td>\n",
              "      <td>0</td>\n",
              "      <td>0</td>\n",
              "      <td>0</td>\n",
              "      <td>0</td>\n",
              "    </tr>\n",
              "  </tbody>\n",
              "</table>\n",
              "<p>5 rows × 21 columns</p>\n",
              "</div>\n",
              "      <button class=\"colab-df-convert\" onclick=\"convertToInteractive('df-c5c7681a-799c-4f40-8119-6ed8bcbeda20')\"\n",
              "              title=\"Convert this dataframe to an interactive table.\"\n",
              "              style=\"display:none;\">\n",
              "        \n",
              "  <svg xmlns=\"http://www.w3.org/2000/svg\" height=\"24px\"viewBox=\"0 0 24 24\"\n",
              "       width=\"24px\">\n",
              "    <path d=\"M0 0h24v24H0V0z\" fill=\"none\"/>\n",
              "    <path d=\"M18.56 5.44l.94 2.06.94-2.06 2.06-.94-2.06-.94-.94-2.06-.94 2.06-2.06.94zm-11 1L8.5 8.5l.94-2.06 2.06-.94-2.06-.94L8.5 2.5l-.94 2.06-2.06.94zm10 10l.94 2.06.94-2.06 2.06-.94-2.06-.94-.94-2.06-.94 2.06-2.06.94z\"/><path d=\"M17.41 7.96l-1.37-1.37c-.4-.4-.92-.59-1.43-.59-.52 0-1.04.2-1.43.59L10.3 9.45l-7.72 7.72c-.78.78-.78 2.05 0 2.83L4 21.41c.39.39.9.59 1.41.59.51 0 1.02-.2 1.41-.59l7.78-7.78 2.81-2.81c.8-.78.8-2.07 0-2.86zM5.41 20L4 18.59l7.72-7.72 1.47 1.35L5.41 20z\"/>\n",
              "  </svg>\n",
              "      </button>\n",
              "      \n",
              "  <style>\n",
              "    .colab-df-container {\n",
              "      display:flex;\n",
              "      flex-wrap:wrap;\n",
              "      gap: 12px;\n",
              "    }\n",
              "\n",
              "    .colab-df-convert {\n",
              "      background-color: #E8F0FE;\n",
              "      border: none;\n",
              "      border-radius: 50%;\n",
              "      cursor: pointer;\n",
              "      display: none;\n",
              "      fill: #1967D2;\n",
              "      height: 32px;\n",
              "      padding: 0 0 0 0;\n",
              "      width: 32px;\n",
              "    }\n",
              "\n",
              "    .colab-df-convert:hover {\n",
              "      background-color: #E2EBFA;\n",
              "      box-shadow: 0px 1px 2px rgba(60, 64, 67, 0.3), 0px 1px 3px 1px rgba(60, 64, 67, 0.15);\n",
              "      fill: #174EA6;\n",
              "    }\n",
              "\n",
              "    [theme=dark] .colab-df-convert {\n",
              "      background-color: #3B4455;\n",
              "      fill: #D2E3FC;\n",
              "    }\n",
              "\n",
              "    [theme=dark] .colab-df-convert:hover {\n",
              "      background-color: #434B5C;\n",
              "      box-shadow: 0px 1px 3px 1px rgba(0, 0, 0, 0.15);\n",
              "      filter: drop-shadow(0px 1px 2px rgba(0, 0, 0, 0.3));\n",
              "      fill: #FFFFFF;\n",
              "    }\n",
              "  </style>\n",
              "\n",
              "      <script>\n",
              "        const buttonEl =\n",
              "          document.querySelector('#df-c5c7681a-799c-4f40-8119-6ed8bcbeda20 button.colab-df-convert');\n",
              "        buttonEl.style.display =\n",
              "          google.colab.kernel.accessAllowed ? 'block' : 'none';\n",
              "\n",
              "        async function convertToInteractive(key) {\n",
              "          const element = document.querySelector('#df-c5c7681a-799c-4f40-8119-6ed8bcbeda20');\n",
              "          const dataTable =\n",
              "            await google.colab.kernel.invokeFunction('convertToInteractive',\n",
              "                                                     [key], {});\n",
              "          if (!dataTable) return;\n",
              "\n",
              "          const docLinkHtml = 'Like what you see? Visit the ' +\n",
              "            '<a target=\"_blank\" href=https://colab.research.google.com/notebooks/data_table.ipynb>data table notebook</a>'\n",
              "            + ' to learn more about interactive tables.';\n",
              "          element.innerHTML = '';\n",
              "          dataTable['output_type'] = 'display_data';\n",
              "          await google.colab.output.renderOutput(dataTable, element);\n",
              "          const docLink = document.createElement('div');\n",
              "          docLink.innerHTML = docLinkHtml;\n",
              "          element.appendChild(docLink);\n",
              "        }\n",
              "      </script>\n",
              "    </div>\n",
              "  </div>\n",
              "  "
            ]
          },
          "metadata": {},
          "execution_count": 30
        }
      ]
    },
    {
      "cell_type": "markdown",
      "source": [
        "Ya que la variable de interes aqui es la religion, se genera un histograma para darnos una idea de los rangos entre cada una de ellas.\n",
        "\n",
        "0=Catholic, 1=Christian, 2=Muslim, 3=Buddhist, 4=Hindu, 5=Ethnic, 6=Marxist, 7=Others"
      ],
      "metadata": {
        "id": "gtsXtl2XXQMK"
      }
    },
    {
      "cell_type": "code",
      "source": [
        "import matplotlib.pyplot as plt\n",
        "flags[\"religion\"].hist(bins=15)\n",
        "plt.show()"
      ],
      "metadata": {
        "colab": {
          "base_uri": "https://localhost:8080/",
          "height": 265
        },
        "id": "aWIk8OckX-7c",
        "outputId": "f4d881f0-3a9c-4b30-dda4-c1393d0a7f44"
      },
      "execution_count": 31,
      "outputs": [
        {
          "output_type": "display_data",
          "data": {
            "text/plain": [
              "<Figure size 432x288 with 1 Axes>"
            ],
            "image/png": "[encoded data removed]"
          },
          "metadata": {
            "needs_background": "light"
          }
        }
      ]
    },
    {
      "cell_type": "markdown",
      "source": [
        "El histograma muestra que la maoyria de los paises/banderas son cristianos, catolicos y musulmanes.\n",
        "\n",
        "Ahora tenemos que ver que variables tienen una fuerte correlacion con nuestra variable de interes"
      ],
      "metadata": {
        "id": "Bs28AMD5fb5S"
      }
    },
    {
      "cell_type": "code",
      "source": [
        "correlation_matrix =  flags.corr()\n",
        "correlation_matrix[\"religion\"]"
      ],
      "metadata": {
        "colab": {
          "base_uri": "https://localhost:8080/",
          "height": 0
        },
        "id": "8wIER3pOgP6v",
        "outputId": "d7c7d443-785c-4e4b-8a01-a3f49e80a84c"
      },
      "execution_count": 32,
      "outputs": [
        {
          "output_type": "execute_result",
          "data": {
            "text/plain": [
              "religion    1.000000\n",
              "bars       -0.060000\n",
              "stripes     0.103222\n",
              "colours    -0.017720\n",
              "red         0.121721\n",
              "green       0.128843\n",
              "blue       -0.154891\n",
              "gold        0.023334\n",
              "white      -0.167605\n",
              "black       0.074055\n",
              "orange     -0.051215\n",
              "circles     0.123260\n",
              "crosses    -0.225238\n",
              "saltires   -0.133373\n",
              "quarters   -0.135713\n",
              "sunstars   -0.075081\n",
              "crescent    0.053145\n",
              "triangle    0.056868\n",
              "icon        0.055714\n",
              "animate    -0.002741\n",
              "text       -0.055158\n",
              "Name: religion, dtype: float64"
            ]
          },
          "metadata": {},
          "execution_count": 32
        }
      ]
    },
    {
      "cell_type": "markdown",
      "source": [
        "# **KNN FROM SCRATCH**\n",
        "Ahora tenemos que definir el \"mas cercano\" calculando la distancia euclediana"
      ],
      "metadata": {
        "id": "77PjKh-ttGhZ"
      }
    },
    {
      "cell_type": "code",
      "source": [
        "import numpy as np\n",
        "a = np.array([2,2])\n",
        "b = np.array([4,4])\n",
        "np.linalg.norm(a-b)"
      ],
      "metadata": {
        "colab": {
          "base_uri": "https://localhost:8080/",
          "height": 0
        },
        "id": "ZyRDijgVtWQF",
        "outputId": "bbc95565-b76d-4c92-fd28-95812fb6960d"
      },
      "execution_count": 33,
      "outputs": [
        {
          "output_type": "execute_result",
          "data": {
            "text/plain": [
              "2.8284271247461903"
            ]
          },
          "metadata": {},
          "execution_count": 33
        }
      ]
    },
    {
      "cell_type": "markdown",
      "source": [
        "\n",
        "Para encontrar los vecinos mas cercanos con NumPy, necesitamos definir las distancias de los vectores de las variables independientes, por lo que vamos a pasar nuestros dataframes d epanda a arrays de NumPy"
      ],
      "metadata": {
        "id": "lGJbauKThvqd"
      }
    },
    {
      "cell_type": "code",
      "source": [
        "X = flags.drop(\"religion\", axis=1)\n",
        "X = X.values\n",
        "y = flags[\"religion\"]\n",
        "y = y.values"
      ],
      "metadata": {
        "id": "11-EoXprj784"
      },
      "execution_count": 34,
      "outputs": []
    },
    {
      "cell_type": "code",
      "source": [
        "print(X)\n",
        "print()\n",
        "print(y)"
      ],
      "metadata": {
        "colab": {
          "base_uri": "https://localhost:8080/",
          "height": 0
        },
        "id": "HLVTQ4vmkk_D",
        "outputId": "9e471c58-4545-404a-8cf0-a039d363e2e4"
      },
      "execution_count": 35,
      "outputs": [
        {
          "output_type": "stream",
          "name": "stdout",
          "text": [
            "[[0 3 5 ... 1 0 0]\n",
            " [0 0 3 ... 0 1 0]\n",
            " [2 0 3 ... 0 0 0]\n",
            " ...\n",
            " [0 0 4 ... 1 1 0]\n",
            " [3 0 4 ... 0 1 0]\n",
            " [0 7 5 ... 1 1 0]]\n",
            "\n",
            "[2 6 2 1 0 5 1 1 0 0 1 0 1 2 2 1 0 1 5 1 3 0 5 0 1 2 6 5 3 5 1 1 0 1 5 5 0\n",
            " 6 0 2 5 1 0 6 1 6 1 2 1 0 0 2 0 5 1 1 1 1 1 0 0 0 5 5 6 1 5 1 1 1 1 1 0 2\n",
            " 5 4 0 0 3 6 1 4 2 2 2 0 7 0 5 1 7 2 3 5 1 2 6 2 5 5 2 0 0 1 5 2 2 2 0 1 2\n",
            " 4 0 1 0 6 1 2 5 1 4 1 1 1 0 2 2 1 6 2 1 2 2 0 5 0 0 0 6 0 0 2 6 5 0 0 2 2\n",
            " 1 5 3 1 2 1 7 2 0 3 1 1 1 1 2 1 1 1 1 2 3 5 3 7 1 1 2 2 1 1 2 5 1 0 1 1 6\n",
            " 1 0 0 6 1 6 5 5 5]\n"
          ]
        }
      ]
    },
    {
      "cell_type": "markdown",
      "source": [
        "Ahora tenemos 2 objetos que contienen nuestra data.\n",
        "X es la matriz de variables independientes.\n",
        "y es la matriz de la variable independiente."
      ],
      "metadata": {
        "id": "sQPElQJ0k2jk"
      }
    },
    {
      "cell_type": "markdown",
      "source": [
        "Vamos a aplicar KNN con K=3 \n",
        "Por lo que se crea un nuevo array de NumPy para un dataPoint con los siguientes datos:\n",
        "*3,0,4,1,1,0,0,1,0,1,0,0,0,0,0,0,0,0,1,0*\n",
        "\n",
        "\n"
      ],
      "metadata": {
        "id": "VH5QrU0coRWb"
      }
    },
    {
      "cell_type": "code",
      "source": [
        "new_data_point= np.array([\n",
        "3,0,4,1,1,0,0,1,0,1,0,0,0,0,0,0,0,0,1,0,\n",
        "])"
      ],
      "metadata": {
        "id": "EhBl9znJs0uv"
      },
      "execution_count": 36,
      "outputs": []
    },
    {
      "cell_type": "markdown",
      "source": [
        "Calculamos las distancias entre el nuevo data point y cada uno de los data opint del dataset de banderas"
      ],
      "metadata": {
        "id": "RVBZiBX9ujrg"
      }
    },
    {
      "cell_type": "code",
      "source": [
        "distances = np.linalg.norm(X - new_data_point, axis=1)\n"
      ],
      "metadata": {
        "id": "3WaXj8HOutjh"
      },
      "execution_count": 37,
      "outputs": []
    },
    {
      "cell_type": "markdown",
      "source": [
        "Ahora tenemos un vector de distancias, y tenemos que encontrar cuales son nuestros K=3 vecinos mas cercanos. Para hacer esto, necesitamos encontrar los IDs de las distancias minimas. Utilizamos el metodo *argsort()* para ordenar el array de menor a mayor, y tomar los primeros k = 3 elementos para obtener los indices de los K mas cercanos."
      ],
      "metadata": {
        "id": "LaRzyBMbwb8L"
      }
    },
    {
      "cell_type": "code",
      "source": [
        "k = 3\n",
        "nearest_neighbor_ids = distances.argsort()[:k]\n",
        "nearest_neighbor_ids"
      ],
      "metadata": {
        "colab": {
          "base_uri": "https://localhost:8080/",
          "height": 0
        },
        "id": "OCk7BmY0z4AG",
        "outputId": "6fb23111-e747-4e9e-e09f-222256cb32a2"
      },
      "execution_count": 38,
      "outputs": [
        {
          "output_type": "execute_result",
          "data": {
            "text/plain": [
              "array([112, 192,  88])"
            ]
          },
          "metadata": {},
          "execution_count": 38
        }
      ]
    },
    {
      "cell_type": "markdown",
      "source": [
        "Esto nos dice cuales son los 3 vecinos mas cercanos a nuestro nuevo data point.\n",
        "Ahora necesitamos combinar estos 3 vecinos en una prediccion para nuesto nuvo data point"
      ],
      "metadata": {
        "id": "8IW0myFr0GEz"
      }
    },
    {
      "cell_type": "markdown",
      "source": [
        "Primero tenemos que encontrar en que clases se clasifican estos 3 vecinos"
      ],
      "metadata": {
        "id": "RDGa7-jy1zr4"
      }
    },
    {
      "cell_type": "code",
      "source": [
        "nearest_neighbor_flags = y[nearest_neighbor_ids]\n",
        "nearest_neighbor_flags"
      ],
      "metadata": {
        "colab": {
          "base_uri": "https://localhost:8080/",
          "height": 0
        },
        "id": "vWLDC-2m2XNm",
        "outputId": "1d386eb4-2b94-47ea-ac88-2de87bf6f252"
      },
      "execution_count": 39,
      "outputs": [
        {
          "output_type": "execute_result",
          "data": {
            "text/plain": [
              "array([0, 5, 5])"
            ]
          },
          "metadata": {},
          "execution_count": 39
        }
      ]
    },
    {
      "cell_type": "markdown",
      "source": [
        "**Donde 0 = Catholic y 5 = Ethnic**"
      ],
      "metadata": {
        "id": "UJi25lAi2uIQ"
      }
    },
    {
      "cell_type": "markdown",
      "source": [
        "Ahora que tenemos los valores de las clases de los 3 vecinos, los combinaremos en una sola prediccion, **una para regresion y otra para clasificacion**"
      ],
      "metadata": {
        "id": "4Wk-6mzY2wjk"
      }
    },
    {
      "cell_type": "markdown",
      "source": [
        "# **Promedio para regresion**\n",
        "En los problemas de regresion, la variable objetivo debe ser un valor numerico, se combinan varios vecinos en una sola prediccion tomando el promedio de sus valores."
      ],
      "metadata": {
        "id": "S5iZsjw75QyI"
      }
    },
    {
      "cell_type": "code",
      "source": [
        "prediction = nearest_neighbor_flags.mean()\n",
        "prediction"
      ],
      "metadata": {
        "colab": {
          "base_uri": "https://localhost:8080/",
          "height": 0
        },
        "id": "z_VOfrMt5mbw",
        "outputId": "2355a5ac-8c8e-4f0a-ada8-7c781c0724ce"
      },
      "execution_count": 40,
      "outputs": [
        {
          "output_type": "execute_result",
          "data": {
            "text/plain": [
              "3.3333333333333335"
            ]
          },
          "metadata": {},
          "execution_count": 40
        }
      ]
    },
    {
      "cell_type": "markdown",
      "source": [
        "La prediccion nos regresa un valor de 3.33...Esto significa que la prediccion para los 3 vecinos mas cercanos para el nuevo datapoint es de **3**\n"
      ],
      "metadata": {
        "id": "kTNiYKF46uAY"
      }
    },
    {
      "cell_type": "markdown",
      "source": [
        "# **Moda para la clasificacion**\n",
        "En los problemas de clasificacion, la variable objetivo es categorica, en la regresion se utilizaba el promedio para la prediccion, aqui utilizamos la moda.\n",
        "Podemos calcular la moda utilizando la funcion *mode()* de SciPy"
      ],
      "metadata": {
        "id": "lzrnPvPI8EtA"
      }
    },
    {
      "cell_type": "code",
      "source": [
        "import scipy.stats\n",
        "class_neighbors = nearest_neighbor_flags\n",
        "scipy.stats.mode(class_neighbors)"
      ],
      "metadata": {
        "colab": {
          "base_uri": "https://localhost:8080/",
          "height": 0
        },
        "id": "l3qvcOyG8-wk",
        "outputId": "4352a1aa-dd55-416b-e2a0-d1d773f93509"
      },
      "execution_count": 41,
      "outputs": [
        {
          "output_type": "execute_result",
          "data": {
            "text/plain": [
              "ModeResult(mode=array([5]), count=array([2]))"
            ]
          },
          "metadata": {},
          "execution_count": 41
        }
      ]
    },
    {
      "cell_type": "markdown",
      "source": [
        "En base a la moda, la clase que se repite mas veces es la 5, por lo tanto la prediccion nos dice que nuestro nuevo datapoint pertence a la **clase 5 = Ethnic**  "
      ],
      "metadata": {
        "id": "VJXGIx9M-80r"
      }
    },
    {
      "cell_type": "markdown",
      "source": [
        "# **Entrenar KNN en python utilizando scikit-learn**"
      ],
      "metadata": {
        "id": "Bwb2tELTAPea"
      }
    },
    {
      "cell_type": "markdown",
      "source": [
        "Ahora implementaremos KNN con la libreria de scikit-learn, una de las mas usadas en el area de machine learning.\n",
        "\n",
        "Se evaluara la calidad del modelo de KNN que hicimos previamente, para hacer la evaluacion se utilizara *train-split*.\n",
        "\n",
        "Esto divide nuestro dataset en 2 partes:\n",
        "\n",
        "-**Data para entrenamiento:** para KNN, significa que la data sera utilizada como los vecinos.\n",
        "\n",
        "-**Data para pruebas:** esta es utilizada para evaluar el modelo.\n",
        "\n",
        "Podemos divir la data en estos 2 sets utilizando la funcion *train_test_split()* de scikit-learn"
      ],
      "metadata": {
        "id": "4Cj3AQcXAnnL"
      }
    },
    {
      "cell_type": "code",
      "source": [
        "from sklearn.model_selection import train_test_split\n",
        "\n",
        "X_train, X_test, y_train, y_test = train_test_split(X, y, test_size=0.2, random_state=12345)"
      ],
      "metadata": {
        "id": "EkB2CMHftnu0"
      },
      "execution_count": 42,
      "outputs": []
    },
    {
      "cell_type": "markdown",
      "source": [
        "El *test_size* se reifere al porcentaje del dataset que quieres usar para entrenar y probar\n",
        "\n",
        "Como esta en 0.2, entonces nuestro porcentaje del dataset para probar sera del 20%, y el 80% restante sera para entrenar.\n",
        "\n",
        "El *random_state* es un parametro que permite obtener el mismo resultado cada vez que el codigo es ejecutado."
      ],
      "metadata": {
        "id": "USNRfUUUuiXx"
      }
    },
    {
      "cell_type": "markdown",
      "source": [
        "# **Entrenar KNN regresion con scikit-learn**\n",
        "Para entrenar el modelo de scikit-learn, se cream un modelo de las clases correctas, tambien necesitamos elegir el valor para k."
      ],
      "metadata": {
        "id": "l555MtPpxQkE"
      }
    },
    {
      "cell_type": "code",
      "source": [
        "from sklearn.neighbors import KNeighborsRegressor\n",
        "knn_model = KNeighborsRegressor(n_neighbors=3)"
      ],
      "metadata": {
        "id": "0qJrVtBPxqew"
      },
      "execution_count": 43,
      "outputs": []
    },
    {
      "cell_type": "markdown",
      "source": [
        "Tenemos nuestro modelo sin entrenar, vamos a entrenar el modelo con el porcentaje del data set que seleccionamos para entrenar. Este modelo utilizara los k=3 vecinos mas cercanos para predecir el valor de algun futuro data point nuevo. \n"
      ],
      "metadata": {
        "id": "P-87lvfPxvwH"
      }
    },
    {
      "cell_type": "code",
      "source": [
        "knn_model.fit(X_train, y_train)"
      ],
      "metadata": {
        "colab": {
          "base_uri": "https://localhost:8080/",
          "height": 0
        },
        "id": "HkZwBHRFyFdU",
        "outputId": "53285a8d-cb51-45df-b15c-bce482beb47b"
      },
      "execution_count": 44,
      "outputs": [
        {
          "output_type": "execute_result",
          "data": {
            "text/plain": [
              "KNeighborsRegressor(n_neighbors=3)"
            ]
          },
          "metadata": {},
          "execution_count": 44
        }
      ]
    },
    {
      "cell_type": "markdown",
      "source": [
        "Utilizando la funcion *fit()* permite al modelo \"aprender\" de la data.  \n",
        "Ahora el modelo *knn_model* tiene todo lo necesario para hacer predicciones"
      ],
      "metadata": {
        "id": "z05wW4UVzMWX"
      }
    },
    {
      "cell_type": "markdown",
      "source": [
        "# **Usando Scikit-learn para inspeccionar el entrenamiento del modelo**\n",
        "\n",
        "Funciones para evaluar nuestro modelo, hay muchas metricas para evaular la regresion, una de las mas utilizadas es *root mean square error (RMSE)* El RMSE de una prediccion evalua lo siguiente:\n",
        "\n",
        "1.Calcula la diferencia entre cada valor del data point y el valor predecido.\n",
        "\n",
        "2.A cada diferencia se le saca la raiz cuadrada.\n",
        "\n",
        "3.Se suman todas la raices.\n",
        "\n",
        "4.Se calcula la raiz de la suma de todas las raices.\n"
      ],
      "metadata": {
        "id": "q2DFZd_t041H"
      }
    },
    {
      "cell_type": "markdown",
      "source": [
        "Se evaluara el margen de error en la prediccion en la data de entrenamiento. "
      ],
      "metadata": {
        "id": "x3ZdnkYo2FVa"
      }
    },
    {
      "cell_type": "code",
      "source": [
        "from sklearn.metrics import mean_squared_error \n",
        "from math import sqrt\n",
        "train_preds = knn_model.predict(X_train)\n",
        "mse = mean_squared_error(y_train, train_preds)\n",
        "rmse = sqrt(mse)\n",
        "rmse"
      ],
      "metadata": {
        "colab": {
          "base_uri": "https://localhost:8080/",
          "height": 0
        },
        "id": "YH0nUABp2VU-",
        "outputId": "0ba24de4-e1d8-4bbb-84f3-c029dcaf5860"
      },
      "execution_count": 45,
      "outputs": [
        {
          "output_type": "execute_result",
          "data": {
            "text/plain": [
              "1.6173344148069677"
            ]
          },
          "metadata": {},
          "execution_count": 45
        }
      ]
    },
    {
      "cell_type": "markdown",
      "source": [
        "El RMSE calculado de nuestro modelo *knn_model* fue sobre la data de entrenamiento, ahora sera sobre la data de prueba."
      ],
      "metadata": {
        "id": "mN_AAUS62it_"
      }
    },
    {
      "cell_type": "code",
      "source": [
        "test_preds = knn_model.predict(X_test)\n",
        "mse = mean_squared_error(y_test, test_preds)\n",
        "rmse = sqrt(mse)\n",
        "rmse"
      ],
      "metadata": {
        "colab": {
          "base_uri": "https://localhost:8080/",
          "height": 0
        },
        "id": "7zIIoMnh219t",
        "outputId": "f5985797-4e68-4b6d-d009-4e4d20f6442f"
      },
      "execution_count": 46,
      "outputs": [
        {
          "output_type": "execute_result",
          "data": {
            "text/plain": [
              "2.2245714078711765"
            ]
          },
          "metadata": {},
          "execution_count": 46
        }
      ]
    },
    {
      "cell_type": "markdown",
      "source": [
        "# **Graficando el entrenamiento del modelo**"
      ],
      "metadata": {
        "id": "EB3-jjUG7NKr"
      }
    },
    {
      "cell_type": "code",
      "source": [
        "import seaborn as sns\n",
        "cmap = sns.cubehelix_palette(as_cmap=True)\n",
        "f, ax = plt.subplots()\n",
        "points = ax.scatter(X_test[:, 0], X_test[:, 1], c=test_preds, s=50, cmap=cmap)\n",
        "f.colorbar(points)\n",
        "plt.show()\n",
        "\n"
      ],
      "metadata": {
        "colab": {
          "base_uri": "https://localhost:8080/",
          "height": 269
        },
        "id": "MSSLnNLc7S3I",
        "outputId": "3bea0e58-dd75-4ec4-df55-3991e4f7d2df"
      },
      "execution_count": 47,
      "outputs": [
        {
          "output_type": "display_data",
          "data": {
            "text/plain": [
              "<Figure size 432x288 with 2 Axes>"
            ],
            "image/png": "[encoded data removed]"
          },
          "metadata": {
            "needs_background": "light"
          }
        }
      ]
    },
    {
      "cell_type": "markdown",
      "source": [
        "# **Graficando la prueba del modelo**"
      ],
      "metadata": {
        "id": "Y2vrZDJV8L6L"
      }
    },
    {
      "cell_type": "code",
      "source": [
        "cmap = sns.cubehelix_palette(as_cmap=True)\n",
        "f, ax = plt.subplots()\n",
        "points = ax.scatter(X_test[:, 0], X_test[:, 1], c=y_test, s=50, cmap=cmap)\n",
        "f.colorbar(points)\n",
        "plt.show()"
      ],
      "metadata": {
        "id": "JGLA-kOm8WGf",
        "colab": {
          "base_uri": "https://localhost:8080/",
          "height": 269
        },
        "outputId": "6a6a87fa-a220-4e8a-c4bc-ef233db488f4"
      },
      "execution_count": 48,
      "outputs": [
        {
          "output_type": "display_data",
          "data": {
            "text/plain": [
              "<Figure size 432x288 with 2 Axes>"
            ],
            "image/png": "[encoded data removed]"
          },
          "metadata": {
            "needs_background": "light"
          }
        }
      ]
    },
    {
      "cell_type": "markdown",
      "source": [
        "# **Mejorando KNN en python con scikit-learn con GridSearchCV**\n",
        "\n",
        "Para optimizarlo se utiliza *GridSearchCV*, es una herramienta que se utiliza frecuentemente para mejorar los hyper parametros de los modelos de machine learning. En nuestro caso, nos ayudara a encontrar el mejor valor para K en nuestro dataset."
      ],
      "metadata": {
        "id": "Izzr1Ykr80Lv"
      }
    },
    {
      "cell_type": "code",
      "source": [
        "from sklearn.model_selection import GridSearchCV\n",
        "parameters = {\"n_neighbors\": range(1, 50)}\n",
        "gridsearch = GridSearchCV(KNeighborsRegressor(), parameters)\n",
        "gridsearch.fit(X_train, y_train)\n",
        "                          "
      ],
      "metadata": {
        "colab": {
          "base_uri": "https://localhost:8080/",
          "height": 0
        },
        "id": "gyPa2uI09ZxS",
        "outputId": "32958aa2-0ab6-4611-e51e-d91bf3162585"
      },
      "execution_count": 69,
      "outputs": [
        {
          "output_type": "execute_result",
          "data": {
            "text/plain": [
              "GridSearchCV(estimator=KNeighborsRegressor(),\n",
              "             param_grid={'n_neighbors': range(1, 50)})"
            ]
          },
          "metadata": {},
          "execution_count": 69
        }
      ]
    },
    {
      "cell_type": "markdown",
      "source": [
        "Utilizamos GridSearchCV para entrenar de manera repeitda el modelo, el hacerlo de manera repetida da un estaimado confiable para cada uno de los valores de K, en esta caso de prueban valores de 1 a 50."
      ],
      "metadata": {
        "id": "MwIgl9gP9_8L"
      }
    },
    {
      "cell_type": "code",
      "source": [
        "gridsearch.best_params_"
      ],
      "metadata": {
        "colab": {
          "base_uri": "https://localhost:8080/",
          "height": 0
        },
        "id": "w2QUaLZz-bzv",
        "outputId": "d0f16ed4-552c-45c8-d1d6-80d5c22eaa79"
      },
      "execution_count": 70,
      "outputs": [
        {
          "output_type": "execute_result",
          "data": {
            "text/plain": [
              "{'n_neighbors': 14}"
            ]
          },
          "metadata": {},
          "execution_count": 70
        }
      ]
    },
    {
      "cell_type": "markdown",
      "source": [
        "Al final, este mantendra el valor que tuvo el mejor K de rendimiento para predicciones, en nuestra caso fue **K=14** "
      ],
      "metadata": {
        "id": "-N3VnCc9-ekK"
      }
    },
    {
      "cell_type": "markdown",
      "source": [
        "Ahora que sabemos cual es el mejor valor para nuestra K, podemos ver como afecta esto nuesto entrenamiento y pruebas"
      ],
      "metadata": {
        "id": "-HrVCeaF_H8W"
      }
    },
    {
      "cell_type": "code",
      "source": [
        "train_preds_grid = gridsearch.predict(X_train)\n",
        "train_mse = mean_squared_error(y_train, train_preds_grid)\n",
        "train_rmse = sqrt(train_mse)\n",
        "test_preds_grid = gridsearch.predict(X_test)\n",
        "test_mse = mean_squared_error(y_test, test_preds_grid)\n",
        "test_rmse = sqrt(test_mse)\n",
        "\n",
        "print(\"Error Entrenamiento \")\n",
        "print(train_rmse)\n",
        "print(\"Error Pruebas \")\n",
        "print(test_rmse)"
      ],
      "metadata": {
        "colab": {
          "base_uri": "https://localhost:8080/",
          "height": 0
        },
        "id": "pYkVz6maAJgJ",
        "outputId": "fe9827ff-c536-4f9e-dd25-242e6df08eee"
      },
      "execution_count": 71,
      "outputs": [
        {
          "output_type": "stream",
          "name": "stdout",
          "text": [
            "Error Entrenamiento \n",
            "1.9690913147087974\n",
            "Error Pruebas \n",
            "1.6700645635000175\n"
          ]
        }
      ]
    },
    {
      "cell_type": "markdown",
      "source": [
        "# **Agregando \"Weighted average\" de los vecinos en base a su distancia**\n",
        "\n",
        "Veremos si el rendimiento del modelo mejorara cuando se crea un prediccion utilizando un \"Weighted average\" en vez del promedio normal. Esto significa que estan mas lejos influenciaran menos en el resultado de la prediccion."
      ],
      "metadata": {
        "id": "YADsvaHjBUH4"
      }
    },
    {
      "cell_type": "code",
      "source": [
        "parameters = {\"n_neighbors\": range(1, 50),\"weights\": [\"uniform\", \"distance\"],}\n",
        "gridsearch = GridSearchCV(KNeighborsRegressor(), parameters)\n",
        "gridsearch.fit(X_train, y_train)\n"
      ],
      "metadata": {
        "colab": {
          "base_uri": "https://localhost:8080/",
          "height": 0
        },
        "id": "UD7C8oXnCBMU",
        "outputId": "a5f62c09-7803-4c11-f25c-cb7a284a1b2f"
      },
      "execution_count": 72,
      "outputs": [
        {
          "output_type": "execute_result",
          "data": {
            "text/plain": [
              "GridSearchCV(estimator=KNeighborsRegressor(),\n",
              "             param_grid={'n_neighbors': range(1, 50),\n",
              "                         'weights': ['uniform', 'distance']})"
            ]
          },
          "metadata": {},
          "execution_count": 72
        }
      ]
    },
    {
      "cell_type": "code",
      "source": [
        "gridsearch.best_params_\n"
      ],
      "metadata": {
        "colab": {
          "base_uri": "https://localhost:8080/",
          "height": 0
        },
        "id": "BdOlmqG9CKz8",
        "outputId": "c8722f2a-fbad-4792-85cc-60c9bf5b162d"
      },
      "execution_count": 73,
      "outputs": [
        {
          "output_type": "execute_result",
          "data": {
            "text/plain": [
              "{'n_neighbors': 14, 'weights': 'uniform'}"
            ]
          },
          "metadata": {},
          "execution_count": 73
        }
      ]
    },
    {
      "cell_type": "code",
      "source": [
        "test_preds_grid = gridsearch.predict(X_test)\n",
        "test_mse = mean_squared_error(y_test, test_preds_grid)\n",
        "test_rmse = sqrt(test_mse)\n",
        "test_rmse"
      ],
      "metadata": {
        "colab": {
          "base_uri": "https://localhost:8080/",
          "height": 0
        },
        "id": "00ixeYfICOrn",
        "outputId": "09a95041-75b7-4e5c-ae7b-eb5e1992cd40"
      },
      "execution_count": 80,
      "outputs": [
        {
          "output_type": "execute_result",
          "data": {
            "text/plain": [
              "1.6700645635000175"
            ]
          },
          "metadata": {},
          "execution_count": 80
        }
      ]
    },
    {
      "cell_type": "markdown",
      "source": [
        "Podemos ver que no hubo una mejora con este dataset, de 1.6700645635000175 con el promedio normal a 1.6700645635000175 utilizando un \"weighted average\""
      ],
      "metadata": {
        "id": "NJSR5CsXCXuj"
      }
    },
    {
      "cell_type": "markdown",
      "source": [
        "# **Mejorando aun mas KNN con scikit-learn con Bagging**\n",
        "Bagging es un metodo que toma un modelo de machine learning y entrena un gran numero de esos modelos con una ligera variacion en cada entremaiento.\n",
        "\n",
        "Con scikit-learn creamos un *KNeighborsRegressor* que contiene el mejor valor para K y el \"peso\" que se calculo con *GridSearchCV*"
      ],
      "metadata": {
        "id": "kSeMAEqJCi6Q"
      }
    },
    {
      "cell_type": "code",
      "source": [
        "best_k = gridsearch.best_params_[\"n_neighbors\"]\n",
        "best_weights = gridsearch.best_params_[\"weights\"]\n",
        "bagged_knn = KNeighborsRegressor(n_neighbors=best_k, weights=best_weights)"
      ],
      "metadata": {
        "id": "I8hMcbbAEDGU"
      },
      "execution_count": 75,
      "outputs": []
    },
    {
      "cell_type": "markdown",
      "source": [
        "Importamos la clase BaggingRegressor y creamos una nueva instanca con 100 estimadores utilizando el modelo *bagged_knn* "
      ],
      "metadata": {
        "id": "hk7KBIakE1vY"
      }
    },
    {
      "cell_type": "code",
      "source": [
        "from sklearn.ensemble import BaggingRegressor\n",
        "bagging_model = BaggingRegressor(bagged_knn, n_estimators=100)\n",
        "bagging_model.fit(X_train, y_train)"
      ],
      "metadata": {
        "colab": {
          "base_uri": "https://localhost:8080/",
          "height": 0
        },
        "id": "6_xKe7vAFOvG",
        "outputId": "085a316b-205d-42ba-8289-424c862146e0"
      },
      "execution_count": 78,
      "outputs": [
        {
          "output_type": "execute_result",
          "data": {
            "text/plain": [
              "BaggingRegressor(base_estimator=KNeighborsRegressor(n_neighbors=14),\n",
              "                 n_estimators=100)"
            ]
          },
          "metadata": {},
          "execution_count": 78
        }
      ]
    },
    {
      "cell_type": "markdown",
      "source": [
        "Ahora podemos hacer una prediccion y calcular el RMSE"
      ],
      "metadata": {
        "id": "bXym4KpYFSJF"
      }
    },
    {
      "cell_type": "code",
      "source": [
        "test_preds_grid = bagging_model.predict(X_test)\n",
        "test_mse = mean_squared_error(y_test, test_preds_grid)\n",
        "test_rmse = sqrt(test_mse)\n",
        "test_rmse"
      ],
      "metadata": {
        "colab": {
          "base_uri": "https://localhost:8080/",
          "height": 0
        },
        "id": "jhxRL2GRFWOY",
        "outputId": "f2a03d9e-54f2-4886-8e3f-65f258f58e79"
      },
      "execution_count": 79,
      "outputs": [
        {
          "output_type": "execute_result",
          "data": {
            "text/plain": [
              "1.7044394391337336"
            ]
          },
          "metadata": {},
          "execution_count": 79
        }
      ]
    },
    {
      "cell_type": "markdown",
      "source": [
        "La margen de error de la prediccion de KNN con Bagged es de 1.70"
      ],
      "metadata": {
        "id": "8ejaYlO8G-R0"
      }
    },
    {
      "cell_type": "markdown",
      "source": [
        "# **Comparando el RMSE de los cuatro modelos**\n",
        "\n",
        "\n",
        "\n",
        "\n",
        "*   K arbitraria 1.61\n",
        "*   GridSearchCV para k 1.67\n",
        "*   GridSearchCV para k y weights 1.67\n",
        "*   Bagging y GridSearchCV 1.70\n",
        "\n",
        "\n",
        "\n",
        "\n"
      ],
      "metadata": {
        "id": "Dmeep9YVHFsm"
      }
    }
  ]
}